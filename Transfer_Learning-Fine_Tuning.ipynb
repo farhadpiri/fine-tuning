{
 "cells": [
  {
   "cell_type": "code",
   "execution_count": 1,
   "metadata": {},
   "outputs": [],
   "source": [
    "import tensorflow as tf\n",
    "import numpy as np\n",
    "import glob\n",
    "from scipy import misc \n",
    "import matplotlib.pyplot as plt\n",
    "%matplotlib inline\n",
    "\n",
    "tf_keras = tf.contrib.keras"
   ]
  },
  {
   "cell_type": "code",
   "execution_count": 6,
   "metadata": {},
   "outputs": [],
   "source": [
    "# load pre-trained VGG model and exclude top dense layers\n",
    "base_model = tf_keras.applications.VGG16(include_top=False,\n",
    "                                         weights='imagenet',\n",
    "                                         input_shape=(150, 150, 3))"
   ]
  },
  {
   "cell_type": "code",
   "execution_count": 7,
   "metadata": {},
   "outputs": [],
   "source": [
    "def fine_tune_VGG(base_model):\n",
    "    \n",
    "     # output of convolutional layers\n",
    "    net = base_model.output    \n",
    "    \n",
    "    # flatten/reshape layer\n",
    "    net = tf_keras.layers.Flatten(\n",
    "        input_shape=base_model.output_shape[1:])(net)\n",
    "\n",
    "    # fully connected layer\n",
    "    net = tf_keras.layers.Dense(256, activation=tf.nn.relu)(net)\n",
    "    \n",
    "    # dropout layer\n",
    "    net = tf_keras.layers.Dropout(0.5)(net)\n",
    "\n",
    "    # final Dense layer with binary classification\n",
    "    outputs = tf_keras.layers.Dense(1, activation=tf.nn.sigmoid)(net)\n",
    "\n",
    "    # define model with base_model's input\n",
    "    model = tf_keras.models.Model(inputs=base_model.input, outputs=outputs)\n",
    "    \n",
    "    # freeze weights of conv blocks 1-4 (15 layers)\n",
    "    # fine-tune last conv block and dense layers\n",
    "    for layer in model.layers[:15]:\n",
    "        layer.trainable = False\n",
    "    \n",
    "    return model\n",
    "\n",
    "def compile_model(model):\n",
    "\n",
    "    # SGD/optimizer (very slow learning rate)\n",
    "    optimizer = tf_keras.optimizers.SGD(lr=1e-4, momentum=0.9)\n",
    "\n",
    "    # compile the model with loss, optimizer and evaluation metrics\n",
    "    model.compile(loss = tf_keras.losses.binary_crossentropy,\n",
    "                  optimizer = optimizer,\n",
    "                  metrics = [tf_keras.metrics.binary_accuracy])\n",
    "\n",
    "    print(model.summary())\n",
    "    \n",
    "    return model"
   ]
  },
  {
   "cell_type": "code",
   "execution_count": 8,
   "metadata": {},
   "outputs": [
    {
     "name": "stdout",
     "output_type": "stream",
     "text": [
      "_________________________________________________________________\n",
      "Layer (type)                 Output Shape              Param #   \n",
      "=================================================================\n",
      "input_2 (InputLayer)         (None, 150, 150, 3)       0         \n",
      "_________________________________________________________________\n",
      "block1_conv1 (Conv2D)        (None, 150, 150, 64)      1792      \n",
      "_________________________________________________________________\n",
      "block1_conv2 (Conv2D)        (None, 150, 150, 64)      36928     \n",
      "_________________________________________________________________\n",
      "block1_pool (MaxPooling2D)   (None, 75, 75, 64)        0         \n",
      "_________________________________________________________________\n",
      "block2_conv1 (Conv2D)        (None, 75, 75, 128)       73856     \n",
      "_________________________________________________________________\n",
      "block2_conv2 (Conv2D)        (None, 75, 75, 128)       147584    \n",
      "_________________________________________________________________\n",
      "block2_pool (MaxPooling2D)   (None, 37, 37, 128)       0         \n",
      "_________________________________________________________________\n",
      "block3_conv1 (Conv2D)        (None, 37, 37, 256)       295168    \n",
      "_________________________________________________________________\n",
      "block3_conv2 (Conv2D)        (None, 37, 37, 256)       590080    \n",
      "_________________________________________________________________\n",
      "block3_conv3 (Conv2D)        (None, 37, 37, 256)       590080    \n",
      "_________________________________________________________________\n",
      "block3_pool (MaxPooling2D)   (None, 18, 18, 256)       0         \n",
      "_________________________________________________________________\n",
      "block4_conv1 (Conv2D)        (None, 18, 18, 512)       1180160   \n",
      "_________________________________________________________________\n",
      "block4_conv2 (Conv2D)        (None, 18, 18, 512)       2359808   \n",
      "_________________________________________________________________\n",
      "block4_conv3 (Conv2D)        (None, 18, 18, 512)       2359808   \n",
      "_________________________________________________________________\n",
      "block4_pool (MaxPooling2D)   (None, 9, 9, 512)         0         \n",
      "_________________________________________________________________\n",
      "block5_conv1 (Conv2D)        (None, 9, 9, 512)         2359808   \n",
      "_________________________________________________________________\n",
      "block5_conv2 (Conv2D)        (None, 9, 9, 512)         2359808   \n",
      "_________________________________________________________________\n",
      "block5_conv3 (Conv2D)        (None, 9, 9, 512)         2359808   \n",
      "_________________________________________________________________\n",
      "block5_pool (MaxPooling2D)   (None, 4, 4, 512)         0         \n",
      "_________________________________________________________________\n",
      "flatten_1 (Flatten)          (None, 8192)              0         \n",
      "_________________________________________________________________\n",
      "dense_2 (Dense)              (None, 256)               2097408   \n",
      "_________________________________________________________________\n",
      "dropout_1 (Dropout)          (None, 256)               0         \n",
      "_________________________________________________________________\n",
      "dense_3 (Dense)              (None, 1)                 257       \n",
      "=================================================================\n",
      "Total params: 16,812,353\n",
      "Trainable params: 9,177,089\n",
      "Non-trainable params: 7,635,264\n",
      "_________________________________________________________________\n",
      "None\n"
     ]
    }
   ],
   "source": [
    "model = fine_tune_VGG(base_model)\n",
    "model = compile_model(model)"
   ]
  },
  {
   "cell_type": "code",
   "execution_count": 9,
   "metadata": {},
   "outputs": [
    {
     "name": "stdout",
     "output_type": "stream",
     "text": [
      "Found 20000 images belonging to 2 classes.\n",
      "Found 5000 images belonging to 2 classes.\n"
     ]
    }
   ],
   "source": [
    "batch_size = 16\n",
    "train_data_dir = \"../data/training\"\n",
    "test_data_dir = \"../data/testing\"\n",
    "# 25000 images\n",
    "train_size = 20000\n",
    "test_size = 5000\n",
    "input_shape = (150, 150, 3)\n",
    "batch_size = 32\n",
    "# prepare data augmentation configuration\n",
    "train_datagen = tf_keras.preprocessing.image.ImageDataGenerator(\n",
    "        rescale=1./255,\n",
    "        shear_range=0.2,\n",
    "        zoom_range=0.2,\n",
    "        horizontal_flip=True)\n",
    "\n",
    "test_datagen = tf_keras.preprocessing.image.ImageDataGenerator(\n",
    "    rescale=1./255)\n",
    "\n",
    "train_generator = train_datagen.flow_from_directory(\n",
    "        train_data_dir,\n",
    "        target_size=(150,150),\n",
    "        batch_size=batch_size,\n",
    "        class_mode='binary')\n",
    "\n",
    "validation_generator = test_datagen.flow_from_directory(\n",
    "        test_data_dir,\n",
    "        target_size=(150,150),\n",
    "        batch_size=batch_size,\n",
    "        class_mode='binary')"
   ]
  },
  {
   "cell_type": "code",
   "execution_count": 10,
   "metadata": {},
   "outputs": [
    {
     "name": "stdout",
     "output_type": "stream",
     "text": [
      "Epoch 1/5\n",
      "5/5 [==============================] - 251s 50s/step - loss: 0.8258 - binary_accuracy: 0.5312 - val_loss: 0.7209 - val_binary_accuracy: 0.4969\n",
      "Epoch 2/5\n",
      "5/5 [==============================] - 235s 47s/step - loss: 0.7277 - binary_accuracy: 0.5062 - val_loss: 0.6590 - val_binary_accuracy: 0.6188\n",
      "Epoch 3/5\n",
      "5/5 [==============================] - 236s 47s/step - loss: 0.6721 - binary_accuracy: 0.5750 - val_loss: 0.6742 - val_binary_accuracy: 0.5594\n",
      "Epoch 4/5\n",
      "5/5 [==============================] - 235s 47s/step - loss: 0.8109 - binary_accuracy: 0.4688 - val_loss: 0.6451 - val_binary_accuracy: 0.6188\n",
      "Epoch 5/5\n",
      "5/5 [==============================] - 239s 48s/step - loss: 0.6984 - binary_accuracy: 0.6063 - val_loss: 0.6146 - val_binary_accuracy: 0.7063\n"
     ]
    }
   ],
   "source": [
    "# fine-tune the model\n",
    "history = model.fit_generator(\n",
    "        train_generator,\n",
    "        steps_per_epoch= 5, #train_size // batch_size,\n",
    "        epochs=5,\n",
    "        validation_data=validation_generator,\n",
    "        validation_steps= 10) #test_size // batch_size)"
   ]
  },
  {
   "cell_type": "code",
   "execution_count": 11,
   "metadata": {},
   "outputs": [
    {
     "name": "stdout",
     "output_type": "stream",
     "text": [
      "loss: 0.61460428834\n",
      "accuracy: 0.70625\n"
     ]
    }
   ],
   "source": [
    "# evaluate the model on batches with real-time data augmentation\n",
    "loss, acc= model.evaluate_generator(validation_generator, steps = 10)\n",
    "print(\"loss: {}\".format(loss))\n",
    "print(\"accuracy: {}\".format(acc))"
   ]
  },
  {
   "cell_type": "code",
   "execution_count": 13,
   "metadata": {},
   "outputs": [],
   "source": [
    "def plot_accuracy_and_loss(history):\n",
    "    plt.figure(1, figsize= (15, 10))\n",
    "    \n",
    "    # plot train and test accuracy\n",
    "    plt.subplot(221)\n",
    "    plt.plot(history.history['binary_accuracy'])\n",
    "    plt.plot(history.history['val_binary_accuracy'])\n",
    "    plt.title('vgg accuracy')\n",
    "    plt.ylabel('accuracy')\n",
    "    plt.xlabel('epoch')\n",
    "    plt.legend(['train', 'test'], loc='upper left')\n",
    "\n",
    "    # plot train and test loss\n",
    "    plt.subplot(222)\n",
    "    plt.plot(history.history['loss'])\n",
    "    plt.plot(history.history['val_loss'])\n",
    "    plt.title('vgg loss')\n",
    "    plt.ylabel('loss')\n",
    "    plt.xlabel('epoch')\n",
    "    plt.legend(['train', 'test'], loc='upper right')\n",
    "    \n",
    "    plt.show()"
   ]
  },
  {
   "cell_type": "code",
   "execution_count": 14,
   "metadata": {},
   "outputs": [
    {
     "data": {
      "image/png": "[encoded data removed]",
      "text/plain": [
       "<Figure size 1080x720 with 2 Axes>"
      ]
     },
     "metadata": {
      "needs_background": "light"
     },
     "output_type": "display_data"
    }
   ],
   "source": [
    "plot_accuracy_and_loss(history)"
   ]
  },
  {
   "cell_type": "code",
   "execution_count": 15,
   "metadata": {},
   "outputs": [],
   "source": [
    "#save model\n",
    "model_json = model.to_json()\n",
    "open('cat_and_dog_fine_tune_model.json', 'w').write(model_json)\n",
    "model.save_weights('image_classifier_cat_and_dog_fine_tune_.h5',\n",
    "                   overwrite=True)"
   ]
  }
 ],
 "metadata": {
  "kernelspec": {
   "display_name": "Python 2",
   "language": "python",
   "name": "python2"
  },
  "language_info": {
   "codemirror_mode": {
    "name": "ipython",
    "version": 2
   },
   "file_extension": ".py",
   "mimetype": "text/x-python",
   "name": "python",
   "nbconvert_exporter": "python",
   "pygments_lexer": "ipython2",
   "version": "2.7.17"
  }
 },
 "nbformat": 4,
 "nbformat_minor": 2
}
